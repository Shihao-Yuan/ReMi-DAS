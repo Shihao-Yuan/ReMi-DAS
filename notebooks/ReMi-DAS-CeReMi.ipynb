{
 "cells": [
  {
   "cell_type": "markdown",
   "id": "bd0c061b",
   "metadata": {},
   "source": [
    "# ReMi-DAS: Refraction Microtremor Processing for DAS\n",
    "\n",
    "This Jupyter notebook demonstrates the application of the **ReMi-DAS** workflow for shear-wave velocity profiling using DAS data. The notebook guides users through a series of processing steps adapted from conventional Refraction Microtremor (ReMi) techniques, including:\n",
    "\n",
    "- Reading and preprocessing DAS data\n",
    "- Slowness-frequency (p-f) transformation\n",
    "- Extraction of Rayleigh wave dispersion curves\n",
    "\n",
    "The ReMi-DAS implementation uses the functionality of the [**DASCore**](https://github.com/DASDAE/dascore) package for signal processing.\n",
    "\n",
    "### References\n",
    "\n",
    "- McMechan, G.A. and Yedlin, M.J., 1981. Analysis of dispersive waves by wave field transformation. *Geophysics*, 46(6), pp.869-874.  \n",
    "- Louie, J.N., 2001. Faster, better: shear-wave velocity to 100 meters depth from refraction microtremor arrays. *BSSA*, 91(2), pp.347-364. \n",
    "- Chambers, D., Jin, G., Tourei, A., Issah, A.H.S., Lellouch, A., Martin, E.R., Zhu, D., Girard, A.J., Yuan, S., Cullison, T. and Snyder, T., 2024. Dascore: A python library for distributed fiber optic sensing. *Seismica*, 3(2), pp.10-26443.\n"
   ]
  },
  {
   "cell_type": "code",
   "execution_count": null,
   "id": "733731b6",
   "metadata": {},
   "outputs": [],
   "source": [
    "# Packages installation if not already installed\n",
    "\n",
    "# !pip install dascore --upgrade --quiet\n",
    "# !pip install PyQt5 --upgrade --quiet"
   ]
  },
  {
   "cell_type": "code",
   "execution_count": 3,
   "id": "9155e047",
   "metadata": {},
   "outputs": [],
   "source": [
    "import os\n",
    "import numpy as np\n",
    "from scipy.interpolate import CubicSpline\n",
    "\n",
    "import dascore as dc\n",
    "from dascore.units import Hz\n",
    "\n",
    "from matplotlib import pyplot as plt\n",
    "\n",
    "# Use Qt backend for interactive plots\n",
    "%matplotlib qt"
   ]
  },
  {
   "cell_type": "markdown",
   "id": "3a071b00",
   "metadata": {},
   "source": [
    "### Reading and Preprocessing DAS Data\n",
    "\n",
    "*Note: You can skip this section if you're using the provided example dataset (`example.h5`).*"
   ]
  },
  {
   "cell_type": "code",
   "execution_count": null,
   "id": "129b556a",
   "metadata": {},
   "outputs": [],
   "source": [
    "# Define file path and filename for DAS data\n",
    "folder_path = 'Path/To/Your/DAS/Folder'  # Replace with your actual folder path\n",
    "filename = 'data.hdf5'  # Replace with your actual DAS file name\n",
    "\n",
    "full_path = os.path.join(folder_path, filename)\n",
    "\n",
    "# Read and preprocess data\n",
    "pa = dc.spool(full_path)\n",
    "pa_fil = (\n",
    "    pa[0]\n",
    "    .set_units(\"1/s\", distance=\"m\", time=\"s\")  # Set physical units\n",
    "    .detrend(\"time\")                           # Remove linear trend\n",
    "    .decimate(time=20)                         # Downsample in time\n",
    "    .taper(time=0.05)                          # Apply taper in time\n",
    "    .pass_filter(time=(1 * Hz, 49 * Hz))       # Bandpass filter \n",
    "    .select(distance=(102, 222), samples=True) # Select a distance range\n",
    "    .transpose('distance', 'time')             \n",
    ")"
   ]
  },
  {
   "cell_type": "markdown",
   "id": "d3d786ac",
   "metadata": {},
   "source": [
    "### Using the Example Preprocessed Data\n",
    "\n",
    "The file `example.h5` contains data that has already been preprocessed using the steps described above.\n"
   ]
  },
  {
   "cell_type": "code",
   "execution_count": 5,
   "id": "5264b6b2",
   "metadata": {},
   "outputs": [
    {
     "data": {
      "text/plain": [
       "<Axes: xlabel='time', ylabel='distance(m)'>"
      ]
     },
     "execution_count": 5,
     "metadata": {},
     "output_type": "execute_result"
    }
   ],
   "source": [
    "# Read the preprocessed example data and visualize it\n",
    "pa_fil = dc.spool('./example.h5')\n",
    "\n",
    "# Plot the preprocessed data\n",
    "fig, ax = plt.subplots(figsize=(7, 5))\n",
    "pa_fil[0].viz.waterfall(ax=ax,scale=0.0001)"
   ]
  },
  {
   "cell_type": "markdown",
   "id": "1b6bdf36",
   "metadata": {},
   "source": [
    "### Velocity Spectral (p-f) Analysis\n",
    "\n",
    "This section performs slowness-frequency transformation on the DAS data.  \n",
    "The workflow includes:\n",
    "- Chunking the data into overlapping time windows.\n",
    "- Applying tapers in both time and distance to reduce edge effects.\n",
    "- Performing a tau-p (slant stack) transform to map the data into the slowness domain.\n",
    "- Computing the discrete Fourier transform (DFT) along the time axis to obtain the frequency content for each slowness.\n",
    "- The resulting spectra are used for subsequent stacking, normalization, and dispersion curve picking."
   ]
  },
  {
   "cell_type": "code",
   "execution_count": 6,
   "id": "6322b102",
   "metadata": {},
   "outputs": [
    {
     "data": {
      "application/vnd.jupyter.widget-view+json": {
       "model_id": "b9bc6a155d8541e8b9eae6f5e53056a5",
       "version_major": 2,
       "version_minor": 0
      },
      "text/plain": [
       "Output()"
      ]
     },
     "metadata": {},
     "output_type": "display_data"
    },
    {
     "data": {
      "text/html": [
       "<pre style=\"white-space:pre;overflow-x:auto;line-height:normal;font-family:Menlo,'DejaVu Sans Mono',consolas,'Courier New',monospace\"></pre>\n"
      ],
      "text/plain": []
     },
     "metadata": {},
     "output_type": "display_data"
    },
    {
     "data": {
      "text/html": [
       "<pre style=\"white-space:pre;overflow-x:auto;line-height:normal;font-family:Menlo,'DejaVu Sans Mono',consolas,'Courier New',monospace\">\n",
       "</pre>\n"
      ],
      "text/plain": [
       "\n"
      ]
     },
     "metadata": {},
     "output_type": "display_data"
    },
    {
     "data": {
      "application/vnd.jupyter.widget-view+json": {
       "model_id": "6c2c1eb9f0e541cb8f94b465b7a58d03",
       "version_major": 2,
       "version_minor": 0
      },
      "text/plain": [
       "Output()"
      ]
     },
     "metadata": {},
     "output_type": "display_data"
    },
    {
     "data": {
      "text/html": [
       "<pre style=\"white-space:pre;overflow-x:auto;line-height:normal;font-family:Menlo,'DejaVu Sans Mono',consolas,'Courier New',monospace\"></pre>\n"
      ],
      "text/plain": []
     },
     "metadata": {},
     "output_type": "display_data"
    },
    {
     "data": {
      "text/html": [
       "<pre style=\"white-space:pre;overflow-x:auto;line-height:normal;font-family:Menlo,'DejaVu Sans Mono',consolas,'Courier New',monospace\">\n",
       "</pre>\n"
      ],
      "text/plain": [
       "\n"
      ]
     },
     "metadata": {},
     "output_type": "display_data"
    },
    {
     "data": {
      "application/vnd.jupyter.widget-view+json": {
       "model_id": "b36c89c2882b4881899569ee73928b3d",
       "version_major": 2,
       "version_minor": 0
      },
      "text/plain": [
       "Output()"
      ]
     },
     "metadata": {},
     "output_type": "display_data"
    },
    {
     "data": {
      "text/html": [
       "<pre style=\"white-space:pre;overflow-x:auto;line-height:normal;font-family:Menlo,'DejaVu Sans Mono',consolas,'Courier New',monospace\"></pre>\n"
      ],
      "text/plain": []
     },
     "metadata": {},
     "output_type": "display_data"
    },
    {
     "data": {
      "text/html": [
       "<pre style=\"white-space:pre;overflow-x:auto;line-height:normal;font-family:Menlo,'DejaVu Sans Mono',consolas,'Courier New',monospace\">\n",
       "</pre>\n"
      ],
      "text/plain": [
       "\n"
      ]
     },
     "metadata": {},
     "output_type": "display_data"
    },
    {
     "data": {
      "application/vnd.jupyter.widget-view+json": {
       "model_id": "5cb675eb199d4cfa8045352678ad71db",
       "version_major": 2,
       "version_minor": 0
      },
      "text/plain": [
       "Output()"
      ]
     },
     "metadata": {},
     "output_type": "display_data"
    },
    {
     "data": {
      "text/html": [
       "<pre style=\"white-space:pre;overflow-x:auto;line-height:normal;font-family:Menlo,'DejaVu Sans Mono',consolas,'Courier New',monospace\"></pre>\n"
      ],
      "text/plain": []
     },
     "metadata": {},
     "output_type": "display_data"
    },
    {
     "data": {
      "text/html": [
       "<pre style=\"white-space:pre;overflow-x:auto;line-height:normal;font-family:Menlo,'DejaVu Sans Mono',consolas,'Courier New',monospace\">\n",
       "</pre>\n"
      ],
      "text/plain": [
       "\n"
      ]
     },
     "metadata": {},
     "output_type": "display_data"
    },
    {
     "data": {
      "application/vnd.jupyter.widget-view+json": {
       "model_id": "d6b7b44b6d4d40708feac826a2a9ac5b",
       "version_major": 2,
       "version_minor": 0
      },
      "text/plain": [
       "Output()"
      ]
     },
     "metadata": {},
     "output_type": "display_data"
    },
    {
     "data": {
      "text/html": [
       "<pre style=\"white-space:pre;overflow-x:auto;line-height:normal;font-family:Menlo,'DejaVu Sans Mono',consolas,'Courier New',monospace\"></pre>\n"
      ],
      "text/plain": []
     },
     "metadata": {},
     "output_type": "display_data"
    },
    {
     "data": {
      "text/html": [
       "<pre style=\"white-space:pre;overflow-x:auto;line-height:normal;font-family:Menlo,'DejaVu Sans Mono',consolas,'Courier New',monospace\">\n",
       "</pre>\n"
      ],
      "text/plain": [
       "\n"
      ]
     },
     "metadata": {},
     "output_type": "display_data"
    },
    {
     "data": {
      "application/vnd.jupyter.widget-view+json": {
       "model_id": "8a7b72f28c6b4a08927948e6acefcd55",
       "version_major": 2,
       "version_minor": 0
      },
      "text/plain": [
       "Output()"
      ]
     },
     "metadata": {},
     "output_type": "display_data"
    },
    {
     "data": {
      "text/html": [
       "<pre style=\"white-space:pre;overflow-x:auto;line-height:normal;font-family:Menlo,'DejaVu Sans Mono',consolas,'Courier New',monospace\"></pre>\n"
      ],
      "text/plain": []
     },
     "metadata": {},
     "output_type": "display_data"
    },
    {
     "data": {
      "text/html": [
       "<pre style=\"white-space:pre;overflow-x:auto;line-height:normal;font-family:Menlo,'DejaVu Sans Mono',consolas,'Courier New',monospace\">\n",
       "</pre>\n"
      ],
      "text/plain": [
       "\n"
      ]
     },
     "metadata": {},
     "output_type": "display_data"
    },
    {
     "data": {
      "application/vnd.jupyter.widget-view+json": {
       "model_id": "07df81720e6a4f9eb3c81b040c2c0e6a",
       "version_major": 2,
       "version_minor": 0
      },
      "text/plain": [
       "Output()"
      ]
     },
     "metadata": {},
     "output_type": "display_data"
    },
    {
     "data": {
      "text/html": [
       "<pre style=\"white-space:pre;overflow-x:auto;line-height:normal;font-family:Menlo,'DejaVu Sans Mono',consolas,'Courier New',monospace\"></pre>\n"
      ],
      "text/plain": []
     },
     "metadata": {},
     "output_type": "display_data"
    },
    {
     "data": {
      "text/html": [
       "<pre style=\"white-space:pre;overflow-x:auto;line-height:normal;font-family:Menlo,'DejaVu Sans Mono',consolas,'Courier New',monospace\">\n",
       "</pre>\n"
      ],
      "text/plain": [
       "\n"
      ]
     },
     "metadata": {},
     "output_type": "display_data"
    },
    {
     "data": {
      "application/vnd.jupyter.widget-view+json": {
       "model_id": "bfa70457b4cc4a1daea3b3c61275a0ce",
       "version_major": 2,
       "version_minor": 0
      },
      "text/plain": [
       "Output()"
      ]
     },
     "metadata": {},
     "output_type": "display_data"
    },
    {
     "data": {
      "text/html": [
       "<pre style=\"white-space:pre;overflow-x:auto;line-height:normal;font-family:Menlo,'DejaVu Sans Mono',consolas,'Courier New',monospace\"></pre>\n"
      ],
      "text/plain": []
     },
     "metadata": {},
     "output_type": "display_data"
    },
    {
     "data": {
      "text/html": [
       "<pre style=\"white-space:pre;overflow-x:auto;line-height:normal;font-family:Menlo,'DejaVu Sans Mono',consolas,'Courier New',monospace\">\n",
       "</pre>\n"
      ],
      "text/plain": [
       "\n"
      ]
     },
     "metadata": {},
     "output_type": "display_data"
    }
   ],
   "source": [
    "# Define processing functions for each step\n",
    "def taper(patch, time, window_type):\n",
    "    \"\"\"Apply a taper along the time axis.\"\"\"\n",
    "    return patch.taper(time=0.1, window_type=window_type)\n",
    "\n",
    "def taper_d(patch, distance, window_type):\n",
    "    \"\"\"Apply a taper along the distance axis.\"\"\"\n",
    "    return patch.taper(distance=0.1, window_type=window_type)\n",
    "\n",
    "def taup(patch, velocities):\n",
    "    \"\"\"Apply tau-p (slant stack) transform with given velocities.\"\"\"\n",
    "    return patch.tau_p(velocities)\n",
    "\n",
    "def dft(patch, dim=\"time\"):\n",
    "    \"\"\"Apply discrete Fourier transform along the specified dimension.\"\"\"\n",
    "    return patch.dft(dim=\"time\", real=True)\n",
    "\n",
    "\n",
    "# Process the data step by step\n",
    "sp_fil = dc.spool(pa_fil)\n",
    "\n",
    "# Chunk the data into segments of 30 seconds with 10 seconds overlap\n",
    "sp_fil_chunked = sp_fil.chunk(time=30, overlap=10)\n",
    "\n",
    "# Apply tapering in time\n",
    "sp_fil_chunked_taper = dc.spool(\n",
    "    sp_fil_chunked.map(taper, time=0.1, window_type=\"hann\")\n",
    ")\n",
    "\n",
    "# Apply tapering in distance\n",
    "sp_fil_chunked_taper_d = dc.spool(\n",
    "    sp_fil_chunked_taper.map(taper_d, distance=0.1, window_type=\"hann\")\n",
    ")\n",
    "\n",
    "# Apply tau-p transform with specified velocities\n",
    "sp_fil_chunked_taper_taup = dc.spool(\n",
    "    sp_fil_chunked_taper_d.map(taup, velocities=np.arange(100, 800, 20))\n",
    ")\n",
    "\n",
    "# Apply discrete Fourier transform along the time dimension\n",
    "sp_fil_chunked_taper_taup_dft = dc.spool(\n",
    "    sp_fil_chunked_taper_taup.map(dft, dim=\"time\")\n",
    ")"
   ]
  },
  {
   "cell_type": "markdown",
   "id": "4577759a",
   "metadata": {},
   "source": [
    "### Spectral normalization and stacking\n",
    "\n",
    "This section computes the normalized and stacked power spectrum across all data chunks.  \n",
    "For each chunk, the code:\n",
    "- Calculates the power spectrum (magnitude squared of the DFT).\n",
    "- Splits the spectrum into positive and negative slowness components and sums them to enforce symmetry.\n",
    "- Normalizes each frequency by the average amplitude across slowness.\n",
    "- Stacks (sums) the normalized spectra from all chunks to enhance coherent features and suppress noise.\n",
    "\n",
    "The result, `summed_avg_stack`, is a 2D array representing the normalized, stacked power as a function of frequency and slowness, ready for visualization and dispersion analysis."
   ]
  },
  {
   "cell_type": "code",
   "execution_count": null,
   "id": "d7941b21",
   "metadata": {},
   "outputs": [],
   "source": [
    "# Calculate number of frequency bins and midpoint\n",
    "n_freq = sp_fil_chunked_taper_taup_dft[0].data.shape[0]\n",
    "half = n_freq // 2\n",
    "\n",
    "# Initialize the stack for the averaged, normalized spectra\n",
    "if n_freq % 2 == 0:\n",
    "    summed_avg_stack = np.zeros((half, sp_fil_chunked_taper_taup_dft[0].data.shape[1]))\n",
    "else:\n",
    "    summed_avg_stack = np.zeros((half + 1, sp_fil_chunked_taper_taup_dft[0].data.shape[1]))\n",
    "\n",
    "# Loop through each chunked patch and sum normalized power spectra\n",
    "for i, patch in enumerate(sp_fil_chunked_taper_taup_dft):\n",
    "    \n",
    "    # Compute power spectrum \n",
    "    power_spectrum = (patch.data * np.conj(patch.data)).real\n",
    "\n",
    "    if n_freq % 2 == 0:\n",
    "        # Split into negative and positive slowness components\n",
    "        # Even: includes Nyquist frequency\n",
    "        neg = power_spectrum[:half,:]\n",
    "        pos = power_spectrum[half:,:]\n",
    "        neg_flipped  = np.flipud(neg)\n",
    "        summed = pos + neg_flipped\n",
    "    else:\n",
    "        # Split into negative and positive slowness components\n",
    "        # Odd\n",
    "        pos = power_spectrum[:half+1]\n",
    "        neg = power_spectrum[half+1:]\n",
    "        neg_flipped  = np.flipud(neg)\n",
    "        summed = pos + neg_flipped[:pos.shape[0]]\n",
    "\n",
    "    # Normalize by the average across slowness for each frequency\n",
    "    avg = np.sum(summed, axis=0) / len(summed)\n",
    "    summed_avg = summed/avg\n",
    "\n",
    "    # Accumulate the normalized spectra\n",
    "    summed_avg_stack = summed_avg_stack + summed_avg"
   ]
  },
  {
   "cell_type": "markdown",
   "id": "213885d5",
   "metadata": {},
   "source": [
    "### Rayleigh Phase-Velocity Dispersion Picking\n",
    "\n",
    "This section enables interactive picking of the Rayleigh wave dispersion curve from the stacked slowness-frequency (p-f) spectrum.  \n",
    "\n",
    "- The normalized and stacked power spectrum is displayed as an image, with frequency on the x-axis and apparent velocity on the y-axis.\n",
    "- The user manually selects points along the visible dispersion curve by clicking on the plot; pressing Enter finishes the selection.\n",
    "- The picked points are sorted and interpolated using a cubic spline to produce a smooth dispersion curve.\n",
    "- The result is visualized by overlaying the picked points and the interpolated curve on the power spectrum image.\n",
    "\n",
    "This process allows for extraction of the fundamental mode Rayleigh wave phase velocity dispersion curve for subsequent 1D shear-wave velocity inversion."
   ]
  },
  {
   "cell_type": "code",
   "execution_count": null,
   "id": "eb255c3d",
   "metadata": {},
   "outputs": [],
   "source": [
    "# Get frequency and slowness arrays\n",
    "freq = sp_fil_chunked_taper_taup_dft[0].get_coord('ft_time')[:summed.shape[1]]\n",
    "slowness = sp_fil_chunked_taper_taup_dft[0].get_coord('slowness')[half:]\n",
    "\n",
    "# Create figure\n",
    "fig, ax = plt.subplots(figsize=(10, 5))\n",
    "extent = [freq[0], freq[-1], 1/slowness[0], 1/slowness[-1]] # Frequency and apparent velocity extent\n",
    "im = ax.imshow(\n",
    "    summed_avg_stack**2,\n",
    "    aspect='auto',\n",
    "    origin='lower',\n",
    "    extent=extent,\n",
    "    cmap='plasma',\n",
    "    vmin=0,\n",
    "    vmax=np.max(summed_avg_stack**2)*0.02  # Adjust for better visibility\n",
    ")\n",
    "ax.set_xlabel('Frequency (Hz)', fontsize=14)\n",
    "ax.set_ylabel('Apparent Velocity (m/s)', fontsize=14)\n",
    "ax.set_title('Click to pick points, then press Enter', fontsize=14)\n",
    "ax.set_xlim(1, 20)\n",
    "ax.set_ylim(100, 600)\n",
    "fig.colorbar(im, ax=ax, label='Amplitude')\n",
    "\n",
    "# Pick points on that same figure\n",
    "print(\"Click to pick points along the dispersion curve. Press Enter when done.\")\n",
    "picked = fig.ginput(n=-1, timeout=0)  # block until Enter\n",
    "\n",
    "plt.close(fig)\n",
    "\n",
    "picked = np.array(picked)\n",
    "if picked.shape[0] < 2:\n",
    "    print(\"Not enough points picked for interpolation.\")\n",
    "else:\n",
    "    # Sort and interpolate\n",
    "    picked = picked[np.argsort(picked[:, 0])]\n",
    "    cs = CubicSpline(picked[:, 0], picked[:, 1])\n",
    "    freq_interp = np.linspace(picked[:, 0].min(), picked[:, 0].max(), 200)\n",
    "    velocity_interp = cs(freq_interp)\n",
    "\n",
    "    # Plot result with cubic spline interpolation\n",
    "    fig2, ax2 = plt.subplots(figsize=(10, 5))\n",
    "    im2 = ax2.imshow(\n",
    "        summed_avg_stack**2,\n",
    "        aspect='auto',\n",
    "        origin='lower',\n",
    "        extent=extent,\n",
    "        cmap='plasma',\n",
    "        vmin=0,\n",
    "        vmax=np.max(summed_avg_stack**2)*0.02 \n",
    "    )\n",
    "    ax2.set_xlabel('Frequency (Hz)', fontsize=14)\n",
    "    ax2.set_ylabel('Apparent Velocity (m/s)', fontsize=14)\n",
    "    ax2.set_title('Manual Picked Dispersion and Cubic Spline Interpolation', fontsize=14)\n",
    "    ax2.set_xlim(1, 20)\n",
    "    ax2.set_ylim(100, 600)\n",
    "    fig2.colorbar(im2, ax=ax2, label='Amplitude')\n",
    "    ax2.plot(picked[:, 0], picked[:, 1], 'ro', label='Picked Points')\n",
    "    ax2.plot(freq_interp, velocity_interp, 'b-', linewidth=2, label='Cubic Spline')\n",
    "    ax2.legend()\n",
    "    plt.show()\n"
   ]
  },
  {
   "cell_type": "code",
   "execution_count": null,
   "id": "ddebd354",
   "metadata": {},
   "outputs": [],
   "source": [
    "# Plot static image of the summed power spectrum\n",
    "# Get frequency and slowness arrays\n",
    "freq = sp_fil_chunked_taper_taup_dft[0].get_coord('ft_time')[:summed.shape[1]]\n",
    "slowness = sp_fil_chunked_taper_taup_dft[0].get_coord('slowness')[half:]\n",
    "\n",
    "plt.figure(figsize=(10, 5))\n",
    "extent = [freq[0], freq[-1],  1/slowness[0], 1/slowness[-1],]\n",
    "plt.imshow(\n",
    "    summed_avg_stack**2,\n",
    "    aspect='auto',\n",
    "    origin='lower',\n",
    "    extent=extent,\n",
    "    cmap='plasma',\n",
    "    vmin=0,\n",
    "    vmax=np.max(summed_avg_stack**2)*0.02\n",
    ")\n",
    "plt.plot(picked[:, 0], picked[:, 1], 'ro', label='Picked Points')\n",
    "plt.plot(freq_interp, velocity_interp, 'b-', linewidth=2, label='Cubic Spline')\n",
    "plt.xlabel('Frequency (Hz)',fontsize=14)\n",
    "plt.ylabel('Apparent Velocity (m/s)',fontsize=14)\n",
    "plt.title('Summed Power Spectrum',fontsize=14)\n",
    "plt.colorbar(label='Amplitude')\n",
    "plt.xlim(1,20)\n",
    "plt.ylim(100,600)\n",
    "plt.show()"
   ]
  },
  {
   "cell_type": "markdown",
   "id": "53a14745",
   "metadata": {},
   "source": [
    "\n",
    "# Correlation-Enhanced ReMi (Ce‑ReMi) for DAS\n",
    "\n",
    "This section adds an *efficient* correlation-enhanced alternative to the classic delay‑and‑sum ReMi implemented above.  \n",
    "Key features:\n",
    "\n",
    "- **Phase‑only/whitened normalization** per window to suppress non‑stationary bursts.  \n",
    "- **Correlation‑domain beamforming** on a linear DAS array using either:\n",
    "  - **Coherence‑weighted delay‑and‑sum** (fast, default), or  \n",
    "  - **MVDR/Capon** with light diagonal loading (more selective; optional via `method=\"mvdr\"`).  \n",
    "- **Signed slowness** to separate along‑line directions (±p).\n",
    "\n",
    "The implementation is API‑compatible with the notebook’s use of DASCore `Patch` objects and runs on the **chunked** windows created earlier (`sp_fil_chunked`).  \n",
    "You can use it with standard geophone spreads or DAS (after decimating to a sensible effective spacing).\n"
   ]
  },
  {
   "cell_type": "code",
   "execution_count": 1,
   "id": "ece76ca8",
   "metadata": {},
   "outputs": [],
   "source": [
    "\n",
    "import numpy as np\n",
    "from typing import Tuple, Dict, Optional\n",
    "\n",
    "def _get_coord_array(patch, name: str):\n",
    "    '''\n",
    "    Best-effort helper to get a coordinate array from a DASCore Patch.\n",
    "    Tries several common access patterns for robustness.\n",
    "    '''\n",
    "    # DASCore Patch has .coords with mapping-like access\n",
    "    if hasattr(patch, \"coords\"):\n",
    "        try:\n",
    "            arr = patch.coords[name]\n",
    "            try:\n",
    "                # Some coords entries may be objects with .values/.data\n",
    "                return np.asarray(getattr(arr, \"values\", getattr(arr, \"data\", arr)))\n",
    "            except Exception:\n",
    "                return np.asarray(arr)\n",
    "        except Exception:\n",
    "            pass\n",
    "        # getattr-style\n",
    "        try:\n",
    "            arr = getattr(patch.coords, name)\n",
    "            return np.asarray(getattr(arr, \"values\", getattr(arr, \"data\", arr)))\n",
    "        except Exception:\n",
    "            pass\n",
    "    # Fallbacks\n",
    "    if hasattr(patch, name):\n",
    "        arr = getattr(patch, name)\n",
    "        return np.asarray(getattr(arr, \"values\", getattr(arr, \"data\", arr)))\n",
    "    raise AttributeError(f\"Could not find coordinate '{name}' on patch. Available: \"\n",
    "                         f\"{list(getattr(patch, 'coords', {}))}\")\n",
    "\n",
    "def _get_data_2d(patch):\n",
    "    '''\n",
    "    Return (data, x, t) where data is 2D as [distance, time].\n",
    "    Ensures the orientation used in this notebook.\n",
    "    '''\n",
    "    # Ensure correct orientation per earlier cell: transpose('distance','time') was applied\n",
    "    data = patch.data if hasattr(patch, \"data\") else np.asarray(patch)\n",
    "    data = np.asarray(data)\n",
    "    x = _get_coord_array(patch, \"distance\")\n",
    "    t = _get_coord_array(patch, \"time\")\n",
    "    # If shapes mismatch, try to transpose\n",
    "    if data.shape[0] != x.size or data.shape[1] != t.size:\n",
    "        # Try transpose\n",
    "        if data.shape[1] == x.size and data.shape[0] == t.size:\n",
    "            data = data.T\n",
    "        else:\n",
    "            raise ValueError(f\"Unexpected data shape {data.shape} for coords (Nx={x.size}, Nt={t.size}). \"\n",
    "                             \"Make sure to call patch.transpose('distance','time') beforehand.\")\n",
    "    return data, x, t\n",
    "\n",
    "def _phase_only_fft(window_data: np.ndarray, axis: int = -1, eps: float = 1e-12) -> np.ndarray:\n",
    "    '''\n",
    "    Compute FFT along time axis and apply phase-only normalization per channel.\n",
    "    Returns complex spectrum with unit magnitude (except eps guarding).\n",
    "    '''\n",
    "    spec = np.fft.rfft(window_data, axis=axis)\n",
    "    mag = np.abs(spec)\n",
    "    spec_po = spec / (mag + eps)\n",
    "    return spec_po\n",
    "\n",
    "def _freq_axis_rfft(dt: float, n: int) -> np.ndarray:\n",
    "    return np.fft.rfftfreq(n, d=dt)\n",
    "\n",
    "def _steering(distance: np.ndarray, freq: np.ndarray, p: np.ndarray) -> np.ndarray:\n",
    "    '''\n",
    "    Build steering vectors a(f,p) with shape [F, P, Nch].\n",
    "    a_{f,p,n} = exp(-i 2π f p x_n).\n",
    "    '''\n",
    "    # shapes: F x 1 x 1, 1 x P x 1, 1 x 1 x N\n",
    "    F = freq[:, None, None]\n",
    "    P = p[None, :, None]\n",
    "    X = distance[None, None, :]\n",
    "    return np.exp(-1j * 2.0 * np.pi * F * P * X)\n",
    "\n",
    "def ce_remi_beamform_on_window(patch_window,\n",
    "                               p_grid: np.ndarray,\n",
    "                               fmin: Optional[float]=None,\n",
    "                               fmax: Optional[float]=None,\n",
    "                               method: str=\"coh\",   # \"coh\" or \"mvdr\"\n",
    "                               diag_load: float=1e-2) -> Tuple[np.ndarray, np.ndarray, np.ndarray]:\n",
    "    '''\n",
    "    Compute a p-f power image for one window Patch using correlation-enhanced ReMi.\n",
    "\n",
    "    Parameters\n",
    "    ----------\n",
    "    patch_window : DASCore Patch oriented as [distance, time]\n",
    "    p_grid       : slowness grid in s/m (with sign for direction)\n",
    "    fmin, fmax   : frequency band (Hz)\n",
    "    method       : 'coh' (coherence-weighted delay-sum via phase-only) or 'mvdr'\n",
    "    diag_load    : diagonal loading factor for MVDR (as fraction of trace(R)/N)\n",
    "\n",
    "    Returns\n",
    "    -------\n",
    "    power_pf : array [F, P]\n",
    "    freq     : array [F] Hz\n",
    "    p_grid   : array [P] s/m\n",
    "    '''\n",
    "    # Extract arrays\n",
    "    X, x, t = None, None, None\n",
    "    X, x, t = _get_data_2d(patch_window)\n",
    "    dt = float(np.median(np.diff(t)))\n",
    "    # Phase-only spectrum per channel\n",
    "    U = _phase_only_fft(X, axis=1)  # shape [Nch, F]\n",
    "    freq = _freq_axis_rfft(dt, X.shape[1])  # [F]\n",
    "\n",
    "    # Band-limit\n",
    "    fmask = np.ones_like(freq, dtype=bool)\n",
    "    if fmin is not None:\n",
    "        fmask &= freq >= fmin\n",
    "    if fmax is not None:\n",
    "        fmask &= freq <= fmax\n",
    "    freq = freq[fmask]\n",
    "    U = U[:, fmask]  # [Nch, F]\n",
    "    Nch, F = U.shape[0], freq.size\n",
    "\n",
    "    # Steering vectors\n",
    "    A = _steering(x, freq, p_grid)  # [F, P, Nch]\n",
    "\n",
    "    if method.lower() == \"coh\":\n",
    "        # Coherence-weighted / phase-only delay-and-sum:\n",
    "        # y(f,p) = a^H(f,p) * U_phase_only(f)  => power = |y|^2\n",
    "        # Arrange shapes: U^* conjugate is applied by a^H; compute via einsum\n",
    "        # U is [Nch, F] => swap to [F, Nch]\n",
    "        Uf = np.swapaxes(U, 0, 1)  # [F, Nch]\n",
    "        y = np.einsum(\"fpn,fn->fp\", np.conjugate(A), Uf, optimize=True)\n",
    "        power_pf = np.abs(y)**2 / (Nch**2)\n",
    "    elif method.lower() == \"mvdr\":\n",
    "        # Build covariance R(f) = < U U^H > (phase-only spectrum used)\n",
    "        # For a single window, this is rank-1; MVDR needs loading.\n",
    "        # For better stability, you can pass in multiple windows and average externally.\n",
    "        power_list = []\n",
    "        for iF in range(F):\n",
    "            u = U[:, iF][:, None]  # [Nch, 1]\n",
    "            R = (u @ u.conj().T)  # [Nch, Nch]\n",
    "            # Diagonal loading using trace heuristic\n",
    "            alpha = diag_load * (np.trace(R).real / max(Nch, 1))\n",
    "            R_loaded = R + alpha * np.eye(Nch, dtype=R.dtype)\n",
    "            # Solve R^{-1} a for all p at once\n",
    "            # A_f is [P, Nch] (transpose of A[iF])\n",
    "            A_f = A[iF]  # [P, Nch]\n",
    "            try:\n",
    "                # Cholesky for Hermitian positive-definite\n",
    "                L = np.linalg.cholesky(R_loaded)\n",
    "                # Solve R^{-1}A via two triangular solves\n",
    "                z = np.linalg.solve(L, A_f.T)        # solve L z = A_f^T\n",
    "                RinvA = np.linalg.solve(L.conj().T, z)  # solve L^H x = z\n",
    "            except np.linalg.LinAlgError:\n",
    "                # Fall back to pseudo-inverse (should be rare with loading)\n",
    "                RinvA = np.linalg.pinv(R_loaded) @ A_f.T\n",
    "            denom = np.einsum(\"pn,pn->p\", A_f.conj(), RinvA.T).real  # a^H R^{-1} a for all p\n",
    "            # Avoid divide by zero\n",
    "            denom = np.maximum(denom, 1e-12)\n",
    "            Pf = 1.0 / denom  # [P]\n",
    "            power_list.append(Pf)\n",
    "        power_pf = np.vstack(power_list)  # [F, P]\n",
    "        # Normalize for display\n",
    "        power_pf /= (power_pf.max() + 1e-12)\n",
    "    else:\n",
    "        raise ValueError(\"method must be 'coh' or 'mvdr'\")\n",
    "\n",
    "    return power_pf, freq, p_grid\n",
    "\n",
    "def ce_remi_beamform(spool_chunked,\n",
    "                     p_grid: np.ndarray,\n",
    "                     fmin: Optional[float]=None,\n",
    "                     fmax: Optional[float]=None,\n",
    "                     method: str=\"coh\",\n",
    "                     diag_load: float=1e-2,\n",
    "                     average: str=\"median\") -> Dict[str, np.ndarray]:\n",
    "    '''\n",
    "    Run Ce-ReMi over all chunked windows and aggregate a single p-f image.\n",
    "\n",
    "    Parameters\n",
    "    ----------\n",
    "    spool_chunked : a DASCore spool of windows (e.g., sp_fil_chunked)\n",
    "    p_grid        : slowness grid (s/m), including sign for direction separation\n",
    "    fmin, fmax    : band in Hz\n",
    "    method        : 'coh' (default) or 'mvdr'\n",
    "    diag_load     : diagonal loading factor for MVDR\n",
    "    average       : 'median' or 'mean' aggregation across windows\n",
    "\n",
    "    Returns\n",
    "    -------\n",
    "    dict with keys: {'power_pf', 'freq', 'p', 'power_pf_windows'}\n",
    "    - power_pf: aggregated [F, P]\n",
    "    - freq: frequency axis used [F]\n",
    "    - p: slowness axis [P]\n",
    "    - power_pf_windows: list/array of per-window images for uncertainty/QA\n",
    "    '''\n",
    "    images = []\n",
    "    freq_common = None\n",
    "    for idx, patchw in enumerate(spool_chunked):\n",
    "        # Ensure orientation matches earlier steps\n",
    "        if hasattr(patchw, \"transpose\"):\n",
    "            patchw = patchw.transpose(\"distance\", \"time\")\n",
    "        power_pf, freq, p_out = ce_remi_beamform_on_window(\n",
    "            patchw, p_grid, fmin=fmin, fmax=fmax, method=method, diag_load=diag_load\n",
    "        )\n",
    "        if freq_common is None:\n",
    "            freq_common = freq\n",
    "        else:\n",
    "            # Align by interpolation if needed\n",
    "            if not np.array_equal(freq_common, freq):\n",
    "                from numpy import interp\n",
    "                new_img = np.empty((freq_common.size, p_out.size), dtype=power_pf.dtype)\n",
    "                for j in range(p_out.size):\n",
    "                    new_img[:, j] = interp(freq_common, freq, power_pf[:, j], left=0.0, right=0.0)\n",
    "                power_pf = new_img\n",
    "        images.append(power_pf)\n",
    "\n",
    "    if not images:\n",
    "        raise RuntimeError(\"No windows found in spool_chunked. Did you compute sp_fil_chunked?\")\n",
    "\n",
    "    stack = np.stack(images, axis=0)  # [W, F, P]\n",
    "    if average == \"median\":\n",
    "        agg = np.median(stack, axis=0)\n",
    "    else:\n",
    "        agg = np.mean(stack, axis=0)\n",
    "    return {\n",
    "        \"power_pf\": agg,\n",
    "        \"freq\": freq_common,\n",
    "        \"p\": p_out,\n",
    "        \"power_pf_windows\": stack,\n",
    "    }\n"
   ]
  },
  {
   "cell_type": "code",
   "execution_count": 13,
   "id": "ba5b1487",
   "metadata": {},
   "outputs": [
    {
     "ename": "IndexError",
     "evalue": "index 0 is out of bounds for axis 0 with size 0",
     "output_type": "error",
     "traceback": [
      "\u001b[0;31m---------------------------------------------------------------------------\u001b[0m",
      "\u001b[0;31mIndexError\u001b[0m                                Traceback (most recent call last)",
      "Cell \u001b[0;32mIn[13], line 1\u001b[0m\n\u001b[0;32m----> 1\u001b[0m \u001b[43mfreq\u001b[49m\u001b[43m[\u001b[49m\u001b[38;5;241;43m0\u001b[39;49m\u001b[43m]\u001b[49m, freq[\u001b[38;5;241m-\u001b[39m\u001b[38;5;241m1\u001b[39m]\n",
      "\u001b[0;31mIndexError\u001b[0m: index 0 is out of bounds for axis 0 with size 0"
     ]
    }
   ],
   "source": [
    "freq[0], freq[-1]"
   ]
  },
  {
   "cell_type": "code",
   "execution_count": 14,
   "id": "b2323826",
   "metadata": {},
   "outputs": [
    {
     "name": "stderr",
     "output_type": "stream",
     "text": [
      "/var/folders/0f/qh8vgw8n4g570f0r6q17pdz00000gn/T/ipykernel_40075/7689541.py:12: UserWarning: Currently coords[coord_name] returns a numpy array, but in a future dascore version it will return a BaseCoord instance. Use patch.coords.get_array(coord_name) instead.\n",
      "  arr = patch.coords[name]\n",
      "/var/folders/0f/qh8vgw8n4g570f0r6q17pdz00000gn/T/ipykernel_40075/7689541.py:12: UserWarning: Currently coords[coord_name] returns a numpy array, but in a future dascore version it will return a BaseCoord instance. Use patch.coords.get_array(coord_name) instead.\n",
      "  arr = patch.coords[name]\n",
      "/var/folders/0f/qh8vgw8n4g570f0r6q17pdz00000gn/T/ipykernel_40075/7689541.py:12: UserWarning: Currently coords[coord_name] returns a numpy array, but in a future dascore version it will return a BaseCoord instance. Use patch.coords.get_array(coord_name) instead.\n",
      "  arr = patch.coords[name]\n",
      "/var/folders/0f/qh8vgw8n4g570f0r6q17pdz00000gn/T/ipykernel_40075/7689541.py:12: UserWarning: Currently coords[coord_name] returns a numpy array, but in a future dascore version it will return a BaseCoord instance. Use patch.coords.get_array(coord_name) instead.\n",
      "  arr = patch.coords[name]\n",
      "/var/folders/0f/qh8vgw8n4g570f0r6q17pdz00000gn/T/ipykernel_40075/7689541.py:12: UserWarning: Currently coords[coord_name] returns a numpy array, but in a future dascore version it will return a BaseCoord instance. Use patch.coords.get_array(coord_name) instead.\n",
      "  arr = patch.coords[name]\n",
      "/var/folders/0f/qh8vgw8n4g570f0r6q17pdz00000gn/T/ipykernel_40075/7689541.py:12: UserWarning: Currently coords[coord_name] returns a numpy array, but in a future dascore version it will return a BaseCoord instance. Use patch.coords.get_array(coord_name) instead.\n",
      "  arr = patch.coords[name]\n",
      "/var/folders/0f/qh8vgw8n4g570f0r6q17pdz00000gn/T/ipykernel_40075/7689541.py:12: UserWarning: Currently coords[coord_name] returns a numpy array, but in a future dascore version it will return a BaseCoord instance. Use patch.coords.get_array(coord_name) instead.\n",
      "  arr = patch.coords[name]\n",
      "/var/folders/0f/qh8vgw8n4g570f0r6q17pdz00000gn/T/ipykernel_40075/7689541.py:12: UserWarning: Currently coords[coord_name] returns a numpy array, but in a future dascore version it will return a BaseCoord instance. Use patch.coords.get_array(coord_name) instead.\n",
      "  arr = patch.coords[name]\n",
      "/var/folders/0f/qh8vgw8n4g570f0r6q17pdz00000gn/T/ipykernel_40075/7689541.py:12: UserWarning: Currently coords[coord_name] returns a numpy array, but in a future dascore version it will return a BaseCoord instance. Use patch.coords.get_array(coord_name) instead.\n",
      "  arr = patch.coords[name]\n",
      "/var/folders/0f/qh8vgw8n4g570f0r6q17pdz00000gn/T/ipykernel_40075/7689541.py:12: UserWarning: Currently coords[coord_name] returns a numpy array, but in a future dascore version it will return a BaseCoord instance. Use patch.coords.get_array(coord_name) instead.\n",
      "  arr = patch.coords[name]\n",
      "/var/folders/0f/qh8vgw8n4g570f0r6q17pdz00000gn/T/ipykernel_40075/7689541.py:12: UserWarning: Currently coords[coord_name] returns a numpy array, but in a future dascore version it will return a BaseCoord instance. Use patch.coords.get_array(coord_name) instead.\n",
      "  arr = patch.coords[name]\n",
      "/var/folders/0f/qh8vgw8n4g570f0r6q17pdz00000gn/T/ipykernel_40075/7689541.py:12: UserWarning: Currently coords[coord_name] returns a numpy array, but in a future dascore version it will return a BaseCoord instance. Use patch.coords.get_array(coord_name) instead.\n",
      "  arr = patch.coords[name]\n",
      "/var/folders/0f/qh8vgw8n4g570f0r6q17pdz00000gn/T/ipykernel_40075/7689541.py:12: UserWarning: Currently coords[coord_name] returns a numpy array, but in a future dascore version it will return a BaseCoord instance. Use patch.coords.get_array(coord_name) instead.\n",
      "  arr = patch.coords[name]\n",
      "/var/folders/0f/qh8vgw8n4g570f0r6q17pdz00000gn/T/ipykernel_40075/7689541.py:12: UserWarning: Currently coords[coord_name] returns a numpy array, but in a future dascore version it will return a BaseCoord instance. Use patch.coords.get_array(coord_name) instead.\n",
      "  arr = patch.coords[name]\n",
      "/var/folders/0f/qh8vgw8n4g570f0r6q17pdz00000gn/T/ipykernel_40075/7689541.py:12: UserWarning: Currently coords[coord_name] returns a numpy array, but in a future dascore version it will return a BaseCoord instance. Use patch.coords.get_array(coord_name) instead.\n",
      "  arr = patch.coords[name]\n",
      "/var/folders/0f/qh8vgw8n4g570f0r6q17pdz00000gn/T/ipykernel_40075/7689541.py:12: UserWarning: Currently coords[coord_name] returns a numpy array, but in a future dascore version it will return a BaseCoord instance. Use patch.coords.get_array(coord_name) instead.\n",
      "  arr = patch.coords[name]\n",
      "/var/folders/0f/qh8vgw8n4g570f0r6q17pdz00000gn/T/ipykernel_40075/7689541.py:12: UserWarning: Currently coords[coord_name] returns a numpy array, but in a future dascore version it will return a BaseCoord instance. Use patch.coords.get_array(coord_name) instead.\n",
      "  arr = patch.coords[name]\n",
      "/var/folders/0f/qh8vgw8n4g570f0r6q17pdz00000gn/T/ipykernel_40075/7689541.py:12: UserWarning: Currently coords[coord_name] returns a numpy array, but in a future dascore version it will return a BaseCoord instance. Use patch.coords.get_array(coord_name) instead.\n",
      "  arr = patch.coords[name]\n",
      "/var/folders/0f/qh8vgw8n4g570f0r6q17pdz00000gn/T/ipykernel_40075/7689541.py:12: UserWarning: Currently coords[coord_name] returns a numpy array, but in a future dascore version it will return a BaseCoord instance. Use patch.coords.get_array(coord_name) instead.\n",
      "  arr = patch.coords[name]\n",
      "/var/folders/0f/qh8vgw8n4g570f0r6q17pdz00000gn/T/ipykernel_40075/7689541.py:12: UserWarning: Currently coords[coord_name] returns a numpy array, but in a future dascore version it will return a BaseCoord instance. Use patch.coords.get_array(coord_name) instead.\n",
      "  arr = patch.coords[name]\n",
      "/var/folders/0f/qh8vgw8n4g570f0r6q17pdz00000gn/T/ipykernel_40075/7689541.py:12: UserWarning: Currently coords[coord_name] returns a numpy array, but in a future dascore version it will return a BaseCoord instance. Use patch.coords.get_array(coord_name) instead.\n",
      "  arr = patch.coords[name]\n",
      "/var/folders/0f/qh8vgw8n4g570f0r6q17pdz00000gn/T/ipykernel_40075/7689541.py:12: UserWarning: Currently coords[coord_name] returns a numpy array, but in a future dascore version it will return a BaseCoord instance. Use patch.coords.get_array(coord_name) instead.\n",
      "  arr = patch.coords[name]\n",
      "/var/folders/0f/qh8vgw8n4g570f0r6q17pdz00000gn/T/ipykernel_40075/7689541.py:12: UserWarning: Currently coords[coord_name] returns a numpy array, but in a future dascore version it will return a BaseCoord instance. Use patch.coords.get_array(coord_name) instead.\n",
      "  arr = patch.coords[name]\n",
      "/var/folders/0f/qh8vgw8n4g570f0r6q17pdz00000gn/T/ipykernel_40075/7689541.py:12: UserWarning: Currently coords[coord_name] returns a numpy array, but in a future dascore version it will return a BaseCoord instance. Use patch.coords.get_array(coord_name) instead.\n",
      "  arr = patch.coords[name]\n",
      "/var/folders/0f/qh8vgw8n4g570f0r6q17pdz00000gn/T/ipykernel_40075/7689541.py:12: UserWarning: Currently coords[coord_name] returns a numpy array, but in a future dascore version it will return a BaseCoord instance. Use patch.coords.get_array(coord_name) instead.\n",
      "  arr = patch.coords[name]\n",
      "/var/folders/0f/qh8vgw8n4g570f0r6q17pdz00000gn/T/ipykernel_40075/7689541.py:12: UserWarning: Currently coords[coord_name] returns a numpy array, but in a future dascore version it will return a BaseCoord instance. Use patch.coords.get_array(coord_name) instead.\n",
      "  arr = patch.coords[name]\n",
      "/var/folders/0f/qh8vgw8n4g570f0r6q17pdz00000gn/T/ipykernel_40075/7689541.py:12: UserWarning: Currently coords[coord_name] returns a numpy array, but in a future dascore version it will return a BaseCoord instance. Use patch.coords.get_array(coord_name) instead.\n",
      "  arr = patch.coords[name]\n",
      "/var/folders/0f/qh8vgw8n4g570f0r6q17pdz00000gn/T/ipykernel_40075/7689541.py:12: UserWarning: Currently coords[coord_name] returns a numpy array, but in a future dascore version it will return a BaseCoord instance. Use patch.coords.get_array(coord_name) instead.\n",
      "  arr = patch.coords[name]\n",
      "/var/folders/0f/qh8vgw8n4g570f0r6q17pdz00000gn/T/ipykernel_40075/7689541.py:12: UserWarning: Currently coords[coord_name] returns a numpy array, but in a future dascore version it will return a BaseCoord instance. Use patch.coords.get_array(coord_name) instead.\n",
      "  arr = patch.coords[name]\n",
      "/var/folders/0f/qh8vgw8n4g570f0r6q17pdz00000gn/T/ipykernel_40075/7689541.py:12: UserWarning: Currently coords[coord_name] returns a numpy array, but in a future dascore version it will return a BaseCoord instance. Use patch.coords.get_array(coord_name) instead.\n",
      "  arr = patch.coords[name]\n",
      "/var/folders/0f/qh8vgw8n4g570f0r6q17pdz00000gn/T/ipykernel_40075/7689541.py:12: UserWarning: Currently coords[coord_name] returns a numpy array, but in a future dascore version it will return a BaseCoord instance. Use patch.coords.get_array(coord_name) instead.\n",
      "  arr = patch.coords[name]\n",
      "/var/folders/0f/qh8vgw8n4g570f0r6q17pdz00000gn/T/ipykernel_40075/7689541.py:12: UserWarning: Currently coords[coord_name] returns a numpy array, but in a future dascore version it will return a BaseCoord instance. Use patch.coords.get_array(coord_name) instead.\n",
      "  arr = patch.coords[name]\n",
      "/var/folders/0f/qh8vgw8n4g570f0r6q17pdz00000gn/T/ipykernel_40075/7689541.py:12: UserWarning: Currently coords[coord_name] returns a numpy array, but in a future dascore version it will return a BaseCoord instance. Use patch.coords.get_array(coord_name) instead.\n",
      "  arr = patch.coords[name]\n",
      "/var/folders/0f/qh8vgw8n4g570f0r6q17pdz00000gn/T/ipykernel_40075/7689541.py:12: UserWarning: Currently coords[coord_name] returns a numpy array, but in a future dascore version it will return a BaseCoord instance. Use patch.coords.get_array(coord_name) instead.\n",
      "  arr = patch.coords[name]\n",
      "/var/folders/0f/qh8vgw8n4g570f0r6q17pdz00000gn/T/ipykernel_40075/7689541.py:12: UserWarning: Currently coords[coord_name] returns a numpy array, but in a future dascore version it will return a BaseCoord instance. Use patch.coords.get_array(coord_name) instead.\n",
      "  arr = patch.coords[name]\n",
      "/var/folders/0f/qh8vgw8n4g570f0r6q17pdz00000gn/T/ipykernel_40075/7689541.py:12: UserWarning: Currently coords[coord_name] returns a numpy array, but in a future dascore version it will return a BaseCoord instance. Use patch.coords.get_array(coord_name) instead.\n",
      "  arr = patch.coords[name]\n",
      "/var/folders/0f/qh8vgw8n4g570f0r6q17pdz00000gn/T/ipykernel_40075/7689541.py:12: UserWarning: Currently coords[coord_name] returns a numpy array, but in a future dascore version it will return a BaseCoord instance. Use patch.coords.get_array(coord_name) instead.\n",
      "  arr = patch.coords[name]\n",
      "/var/folders/0f/qh8vgw8n4g570f0r6q17pdz00000gn/T/ipykernel_40075/7689541.py:12: UserWarning: Currently coords[coord_name] returns a numpy array, but in a future dascore version it will return a BaseCoord instance. Use patch.coords.get_array(coord_name) instead.\n",
      "  arr = patch.coords[name]\n",
      "/var/folders/0f/qh8vgw8n4g570f0r6q17pdz00000gn/T/ipykernel_40075/7689541.py:12: UserWarning: Currently coords[coord_name] returns a numpy array, but in a future dascore version it will return a BaseCoord instance. Use patch.coords.get_array(coord_name) instead.\n",
      "  arr = patch.coords[name]\n",
      "/var/folders/0f/qh8vgw8n4g570f0r6q17pdz00000gn/T/ipykernel_40075/7689541.py:12: UserWarning: Currently coords[coord_name] returns a numpy array, but in a future dascore version it will return a BaseCoord instance. Use patch.coords.get_array(coord_name) instead.\n",
      "  arr = patch.coords[name]\n",
      "/var/folders/0f/qh8vgw8n4g570f0r6q17pdz00000gn/T/ipykernel_40075/7689541.py:12: UserWarning: Currently coords[coord_name] returns a numpy array, but in a future dascore version it will return a BaseCoord instance. Use patch.coords.get_array(coord_name) instead.\n",
      "  arr = patch.coords[name]\n",
      "/var/folders/0f/qh8vgw8n4g570f0r6q17pdz00000gn/T/ipykernel_40075/7689541.py:12: UserWarning: Currently coords[coord_name] returns a numpy array, but in a future dascore version it will return a BaseCoord instance. Use patch.coords.get_array(coord_name) instead.\n",
      "  arr = patch.coords[name]\n",
      "/var/folders/0f/qh8vgw8n4g570f0r6q17pdz00000gn/T/ipykernel_40075/7689541.py:12: UserWarning: Currently coords[coord_name] returns a numpy array, but in a future dascore version it will return a BaseCoord instance. Use patch.coords.get_array(coord_name) instead.\n",
      "  arr = patch.coords[name]\n",
      "/var/folders/0f/qh8vgw8n4g570f0r6q17pdz00000gn/T/ipykernel_40075/7689541.py:12: UserWarning: Currently coords[coord_name] returns a numpy array, but in a future dascore version it will return a BaseCoord instance. Use patch.coords.get_array(coord_name) instead.\n",
      "  arr = patch.coords[name]\n",
      "/var/folders/0f/qh8vgw8n4g570f0r6q17pdz00000gn/T/ipykernel_40075/7689541.py:12: UserWarning: Currently coords[coord_name] returns a numpy array, but in a future dascore version it will return a BaseCoord instance. Use patch.coords.get_array(coord_name) instead.\n",
      "  arr = patch.coords[name]\n",
      "/var/folders/0f/qh8vgw8n4g570f0r6q17pdz00000gn/T/ipykernel_40075/7689541.py:12: UserWarning: Currently coords[coord_name] returns a numpy array, but in a future dascore version it will return a BaseCoord instance. Use patch.coords.get_array(coord_name) instead.\n",
      "  arr = patch.coords[name]\n",
      "/var/folders/0f/qh8vgw8n4g570f0r6q17pdz00000gn/T/ipykernel_40075/7689541.py:12: UserWarning: Currently coords[coord_name] returns a numpy array, but in a future dascore version it will return a BaseCoord instance. Use patch.coords.get_array(coord_name) instead.\n",
      "  arr = patch.coords[name]\n",
      "/var/folders/0f/qh8vgw8n4g570f0r6q17pdz00000gn/T/ipykernel_40075/7689541.py:12: UserWarning: Currently coords[coord_name] returns a numpy array, but in a future dascore version it will return a BaseCoord instance. Use patch.coords.get_array(coord_name) instead.\n",
      "  arr = patch.coords[name]\n",
      "/var/folders/0f/qh8vgw8n4g570f0r6q17pdz00000gn/T/ipykernel_40075/7689541.py:12: UserWarning: Currently coords[coord_name] returns a numpy array, but in a future dascore version it will return a BaseCoord instance. Use patch.coords.get_array(coord_name) instead.\n",
      "  arr = patch.coords[name]\n",
      "/var/folders/0f/qh8vgw8n4g570f0r6q17pdz00000gn/T/ipykernel_40075/7689541.py:12: UserWarning: Currently coords[coord_name] returns a numpy array, but in a future dascore version it will return a BaseCoord instance. Use patch.coords.get_array(coord_name) instead.\n",
      "  arr = patch.coords[name]\n",
      "/var/folders/0f/qh8vgw8n4g570f0r6q17pdz00000gn/T/ipykernel_40075/7689541.py:12: UserWarning: Currently coords[coord_name] returns a numpy array, but in a future dascore version it will return a BaseCoord instance. Use patch.coords.get_array(coord_name) instead.\n",
      "  arr = patch.coords[name]\n"
     ]
    }
   ],
   "source": [
    "\n",
    "# === Ce‑ReMi demo on the chunked spool ===\n",
    "# Requirements: previously created `sp_fil_chunked` in this notebook.\n",
    "\n",
    "# Define slowness grid with sign (s/m). Example: 0.001 to 0.01 s/m (100–1000 m/s) both directions\n",
    "p_abs = np.linspace(1/1000.0, 1/100.0, 120)  # 1000 to 100 m/s\n",
    "p_grid = np.concatenate((-p_abs[::-1], p_abs))\n",
    "\n",
    "# Frequency band (match your earlier bandpass settings)\n",
    "fmin, fmax = 1.0, 40.0\n",
    "\n",
    "# Run fast coherence-weighted Ce‑ReMi\n",
    "try:\n",
    "    ce_out = ce_remi_beamform(sp_fil_chunked, p_grid, fmin=fmin, fmax=fmax, method=\"coh\", average=\"median\")\n",
    "    power_pf = ce_out[\"power_pf\"]\n",
    "    freq = ce_out[\"freq\"]\n",
    "    p = ce_out[\"p\"]\n",
    "except Exception as e:\n",
    "    print(\"Ce‑ReMi demo could not run:\", e)\n",
    "    power_pf = None\n",
    "\n",
    "# Plot if available\n",
    "if power_pf is not None:\n",
    "    velocity = 1.0 / (np.maximum(np.abs(p), 1e-6))\n",
    "    import matplotlib.pyplot as plt\n",
    "    fig, ax = plt.subplots(figsize=(10,5))\n",
    "    extent = [fmin, fmax, velocity.min(), velocity.max()]\n",
    "    im = ax.imshow(power_pf.T, origin=\"lower\", aspect=\"auto\", extent=extent, cmap=\"plasma\")\n",
    "    ax.set_xlabel(\"Frequency (Hz)\")\n",
    "    ax.set_ylabel(\"Apparent Velocity (m/s)\")\n",
    "    ax.set_title(\"Ce‑ReMi (coherence-weighted)\")\n",
    "    fig.colorbar(im, ax=ax, label=\"Power (a.u.)\")\n",
    "    ax.set_ylim(100, 1000)  # adjust to your site\n",
    "    plt.show()\n"
   ]
  },
  {
   "cell_type": "code",
   "execution_count": 16,
   "id": "01fe7ebf",
   "metadata": {},
   "outputs": [
    {
     "data": {
      "text/plain": [
       "{'power_pf': array([], shape=(0, 240), dtype=float64),\n",
       " 'freq': array([], dtype=float64),\n",
       " 'p': array([-0.01      , -0.00992437, -0.00984874, -0.00977311, -0.00969748,\n",
       "        -0.00962185, -0.00954622, -0.00947059, -0.00939496, -0.00931933,\n",
       "        -0.0092437 , -0.00916807, -0.00909244, -0.00901681, -0.00894118,\n",
       "        -0.00886555, -0.00878992, -0.00871429, -0.00863866, -0.00856303,\n",
       "        -0.00848739, -0.00841176, -0.00833613, -0.0082605 , -0.00818487,\n",
       "        -0.00810924, -0.00803361, -0.00795798, -0.00788235, -0.00780672,\n",
       "        -0.00773109, -0.00765546, -0.00757983, -0.0075042 , -0.00742857,\n",
       "        -0.00735294, -0.00727731, -0.00720168, -0.00712605, -0.00705042,\n",
       "        -0.00697479, -0.00689916, -0.00682353, -0.0067479 , -0.00667227,\n",
       "        -0.00659664, -0.00652101, -0.00644538, -0.00636975, -0.00629412,\n",
       "        -0.00621849, -0.00614286, -0.00606723, -0.0059916 , -0.00591597,\n",
       "        -0.00584034, -0.00576471, -0.00568908, -0.00561345, -0.00553782,\n",
       "        -0.00546218, -0.00538655, -0.00531092, -0.00523529, -0.00515966,\n",
       "        -0.00508403, -0.0050084 , -0.00493277, -0.00485714, -0.00478151,\n",
       "        -0.00470588, -0.00463025, -0.00455462, -0.00447899, -0.00440336,\n",
       "        -0.00432773, -0.0042521 , -0.00417647, -0.00410084, -0.00402521,\n",
       "        -0.00394958, -0.00387395, -0.00379832, -0.00372269, -0.00364706,\n",
       "        -0.00357143, -0.0034958 , -0.00342017, -0.00334454, -0.00326891,\n",
       "        -0.00319328, -0.00311765, -0.00304202, -0.00296639, -0.00289076,\n",
       "        -0.00281513, -0.0027395 , -0.00266387, -0.00258824, -0.00251261,\n",
       "        -0.00243697, -0.00236134, -0.00228571, -0.00221008, -0.00213445,\n",
       "        -0.00205882, -0.00198319, -0.00190756, -0.00183193, -0.0017563 ,\n",
       "        -0.00168067, -0.00160504, -0.00152941, -0.00145378, -0.00137815,\n",
       "        -0.00130252, -0.00122689, -0.00115126, -0.00107563, -0.001     ,\n",
       "         0.001     ,  0.00107563,  0.00115126,  0.00122689,  0.00130252,\n",
       "         0.00137815,  0.00145378,  0.00152941,  0.00160504,  0.00168067,\n",
       "         0.0017563 ,  0.00183193,  0.00190756,  0.00198319,  0.00205882,\n",
       "         0.00213445,  0.00221008,  0.00228571,  0.00236134,  0.00243697,\n",
       "         0.00251261,  0.00258824,  0.00266387,  0.0027395 ,  0.00281513,\n",
       "         0.00289076,  0.00296639,  0.00304202,  0.00311765,  0.00319328,\n",
       "         0.00326891,  0.00334454,  0.00342017,  0.0034958 ,  0.00357143,\n",
       "         0.00364706,  0.00372269,  0.00379832,  0.00387395,  0.00394958,\n",
       "         0.00402521,  0.00410084,  0.00417647,  0.0042521 ,  0.00432773,\n",
       "         0.00440336,  0.00447899,  0.00455462,  0.00463025,  0.00470588,\n",
       "         0.00478151,  0.00485714,  0.00493277,  0.0050084 ,  0.00508403,\n",
       "         0.00515966,  0.00523529,  0.00531092,  0.00538655,  0.00546218,\n",
       "         0.00553782,  0.00561345,  0.00568908,  0.00576471,  0.00584034,\n",
       "         0.00591597,  0.0059916 ,  0.00606723,  0.00614286,  0.00621849,\n",
       "         0.00629412,  0.00636975,  0.00644538,  0.00652101,  0.00659664,\n",
       "         0.00667227,  0.0067479 ,  0.00682353,  0.00689916,  0.00697479,\n",
       "         0.00705042,  0.00712605,  0.00720168,  0.00727731,  0.00735294,\n",
       "         0.00742857,  0.0075042 ,  0.00757983,  0.00765546,  0.00773109,\n",
       "         0.00780672,  0.00788235,  0.00795798,  0.00803361,  0.00810924,\n",
       "         0.00818487,  0.0082605 ,  0.00833613,  0.00841176,  0.00848739,\n",
       "         0.00856303,  0.00863866,  0.00871429,  0.00878992,  0.00886555,\n",
       "         0.00894118,  0.00901681,  0.00909244,  0.00916807,  0.0092437 ,\n",
       "         0.00931933,  0.00939496,  0.00947059,  0.00954622,  0.00962185,\n",
       "         0.00969748,  0.00977311,  0.00984874,  0.00992437,  0.01      ]),\n",
       " 'power_pf_windows': array([], shape=(51, 0, 240), dtype=float64)}"
      ]
     },
     "execution_count": 16,
     "metadata": {},
     "output_type": "execute_result"
    }
   ],
   "source": [
    "ce_out"
   ]
  }
 ],
 "metadata": {
  "kernelspec": {
   "display_name": "dascore",
   "language": "python",
   "name": "python3"
  },
  "language_info": {
   "codemirror_mode": {
    "name": "ipython",
    "version": 3
   },
   "file_extension": ".py",
   "mimetype": "text/x-python",
   "name": "python",
   "nbconvert_exporter": "python",
   "pygments_lexer": "ipython3",
   "version": "3.11.4"
  }
 },
 "nbformat": 4,
 "nbformat_minor": 5
}
